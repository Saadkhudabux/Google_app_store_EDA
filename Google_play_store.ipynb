{
 "cells": [
  {
   "cell_type": "markdown",
   "metadata": {},
   "source": [
    "1.0   **About Author**\n",
    "- *Author*: Saad khuda bux\n",
    "\n",
    "- *Project*: Apple App Store Data\n",
    "\n",
    "- **Contact**:\n",
    "\n",
    "[Email](saadkhudabux@gmail.com)\\\n",
    "[Github](https://github.com/Saadkhudabux)\\\n",
    "[Kaggle](https://www.kaggle.com/saadkhudabux)"
   ]
  },
  {
   "cell_type": "markdown",
   "metadata": {},
   "source": [
    "2.0 **About Data**\n",
    "- *Data*: Google PlayStore Android App Data\n",
    "- *Data Age*: The data was collected in the month of June 2021.\n",
    "- *Data Link*: [🔗Link](https://www.kaggle.com/datasets/gauthamp10/google-playstore-apps)"
   ]
  },
  {
   "cell_type": "markdown",
   "metadata": {},
   "source": [
    "2.1 **Task**\n",
    "\n",
    "We are goint to conduct an in-depth Exploratory Data Analysis(EDA) on the given data set.The EDA will form the foundation for essential Data Wrangling tasks, aimed at data cleansing and normalization. As we progress through the coding phase, we'll record our insights. In the end, we will compile a summary and derive conclusions based on our discoveries."
   ]
  },
  {
   "cell_type": "markdown",
   "metadata": {},
   "source": [
    "2.2 **Objectives**\n",
    "\n"
   ]
  },
  {
   "cell_type": "markdown",
   "metadata": {},
   "source": [
    "2.3 **Kernel Version**\n",
    "\n",
    "- Python 3.12.0"
   ]
  },
  {
   "cell_type": "markdown",
   "metadata": {},
   "source": [
    "2.4 **Import Libraries**\n",
    "\n",
    "We will be using the following libraries for this project:\n",
    "\n",
    "- Pandas: Data manipulation and visualization library\n",
    "- Numpy: Numerical computing library\n",
    "- Seaborn: Statistical visualization library\n",
    "- Matplotlib: Data Visualization library"
   ]
  },
  {
   "cell_type": "code",
   "execution_count": 3,
   "metadata": {},
   "outputs": [],
   "source": [
    "# Numerical computing and Manipulation Libraries\n",
    "import numpy as np\n",
    "\n",
    "# Visualization Libraries\n",
    "import seaborn as sns\n",
    "import matplotlib.pyplot as plt"
   ]
  },
  {
   "cell_type": "markdown",
   "metadata": {},
   "source": [
    "3.0 **Data Loading, Exploration and Wrangling Steps:**"
   ]
  },
  {
   "cell_type": "markdown",
   "metadata": {},
   "source": [
    "- Creating a Data frame and load the csv file with pandas library:"
   ]
  },
  {
   "cell_type": "code",
   "execution_count": 5,
   "metadata": {},
   "outputs": [],
   "source": [
    "# load data set under the umbrella of a data frmae\n",
    "df = pd.read_csv('../archive/Google-Playstore.csv')"
   ]
  },
  {
   "cell_type": "code",
   "execution_count": null,
   "metadata": {},
   "outputs": [],
   "source": []
  }
 ],
 "metadata": {
  "kernelspec": {
   "display_name": "python_eda",
   "language": "python",
   "name": "python3"
  },
  "language_info": {
   "codemirror_mode": {
    "name": "ipython",
    "version": 3
   },
   "file_extension": ".py",
   "mimetype": "text/x-python",
   "name": "python",
   "nbconvert_exporter": "python",
   "pygments_lexer": "ipython3",
   "version": "3.12.0"
  }
 },
 "nbformat": 4,
 "nbformat_minor": 2
}
